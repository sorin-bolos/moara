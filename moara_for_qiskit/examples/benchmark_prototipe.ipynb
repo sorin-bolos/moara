{
 "metadata": {
  "language_info": {
   "codemirror_mode": {
    "name": "ipython",
    "version": 3
   },
   "file_extension": ".py",
   "mimetype": "text/x-python",
   "name": "python",
   "nbconvert_exporter": "python",
   "pygments_lexer": "ipython3",
   "version": "3.7.9-final"
  },
  "orig_nbformat": 2,
  "kernelspec": {
   "name": "python3",
   "display_name": "Python 3"
  }
 },
 "nbformat": 4,
 "nbformat_minor": 2,
 "cells": [
  {
   "cell_type": "code",
   "execution_count": 1,
   "metadata": {},
   "outputs": [],
   "source": [
    "import numpy as np \n",
    "import time\n",
    "import matplotlib.pyplot as plt"
   ]
  },
  {
   "cell_type": "code",
   "execution_count": 2,
   "metadata": {},
   "outputs": [],
   "source": [
    "from qiskit import QuantumRegister, ClassicalRegister, QuantumCircuit, execute, Aer\n",
    "from qiskit.providers.models import QasmBackendConfiguration\n",
    "from qiskit.providers import BaseBackend"
   ]
  },
  {
   "cell_type": "code",
   "execution_count": 3,
   "metadata": {},
   "outputs": [],
   "source": [
    "def entanglerCX(circuit,n):\n",
    "    for i in range(n-1):\n",
    "        circuit.cx(i,i+1)\n",
    "\n",
    "def RxRy(citrcuit,n):\n",
    "    for i in range(n):\n",
    "        citrcuit.rx(np.pi/3,i)\n",
    "        citrcuit.ry(np.pi/5,i)\n",
    "\n",
    "def XY(citrcuit,n):\n",
    "    for i in range(n):\n",
    "        citrcuit.x(i)\n",
    "        citrcuit.y(i)"
   ]
  },
  {
   "cell_type": "code",
   "execution_count": 4,
   "metadata": {},
   "outputs": [],
   "source": [
    "def test(i,j):\n",
    "    qc=QuantumCircuit(i,i)\n",
    "    for k in range(j):\n",
    "        entanglerCX(qc,i)\n",
    "        RxRy(qc,i)\n",
    "        #XY(qc,i)\n",
    "    qc.measure(range(i), range(i))\n",
    "    return qc"
   ]
  },
  {
   "cell_type": "code",
   "execution_count": 5,
   "metadata": {},
   "outputs": [],
   "source": [
    "def bench(simulator, max_depth, exec_func):\n",
    "    i=2\n",
    "    j=2\n",
    "    depth=[]\n",
    "    for i in range(10,max_depth):\n",
    "        duration=0\n",
    "        while (duration<0.50) and j<101:\n",
    "            test_qc=test(i,j)\n",
    "            start_time = time.time()\n",
    "            a = exec_func(simulator, test_qc)\n",
    "            a.get('0'*i,0)\n",
    "            duration=(time.time() - start_time)\n",
    "            j=j+1\n",
    "        depth.append(j-1)\n",
    "        j=2\n",
    "    return depth\n",
    "\n",
    "def scor(depth):\n",
    "    sc=0\n",
    "    i=2\n",
    "    for x in depth:\n",
    "        sc=sc+depth*i\n",
    "        i=i+1\n",
    "    return sc"
   ]
  },
  {
   "cell_type": "code",
   "execution_count": 6,
   "metadata": {},
   "outputs": [
    {
     "output_type": "execute_result",
     "data": {
      "text/plain": [
       "          ┌─────────┐┌─────────┐                ┌─────────┐┌─────────┐»\n",
       "q_0: ──■──┤ RX(π/3) ├┤ RY(π/5) ├─────────────■──┤ RX(π/3) ├┤ RY(π/5) ├»\n",
       "     ┌─┴─┐└─────────┘├─────────┤┌─────────┐┌─┴─┐└─────────┘├─────────┤»\n",
       "q_1: ┤ X ├─────■─────┤ RX(π/3) ├┤ RY(π/5) ├┤ X ├─────■─────┤ RX(π/3) ├»\n",
       "     └───┘   ┌─┴─┐   ├─────────┤├─────────┤└───┘   ┌─┴─┐   ├─────────┤»\n",
       "q_2: ────────┤ X ├───┤ RX(π/3) ├┤ RY(π/5) ├────────┤ X ├───┤ RX(π/3) ├»\n",
       "             └───┘   └─────────┘└─────────┘        └───┘   └─────────┘»\n",
       "c: 3/═════════════════════════════════════════════════════════════════»\n",
       "                                                                      »\n",
       "«                     ┌─────────┐┌─────────┐           ┌─┐      \n",
       "«q_0: ─────────────■──┤ RX(π/3) ├┤ RY(π/5) ├───────────┤M├──────\n",
       "«     ┌─────────┐┌─┴─┐└─────────┘├─────────┤┌─────────┐└╥┘┌─┐   \n",
       "«q_1: ┤ RY(π/5) ├┤ X ├─────■─────┤ RX(π/3) ├┤ RY(π/5) ├─╫─┤M├───\n",
       "«     ├─────────┤└───┘   ┌─┴─┐   ├─────────┤├─────────┤ ║ └╥┘┌─┐\n",
       "«q_2: ┤ RY(π/5) ├────────┤ X ├───┤ RX(π/3) ├┤ RY(π/5) ├─╫──╫─┤M├\n",
       "«     └─────────┘        └───┘   └─────────┘└─────────┘ ║  ║ └╥┘\n",
       "«c: 3/══════════════════════════════════════════════════╩══╩══╩═\n",
       "«                                                       0  1  2 "
      ],
      "text/html": "<pre style=\"word-wrap: normal;white-space: pre;background: #fff0;line-height: 1.1;font-family: &quot;Courier New&quot;,Courier,monospace\">          ┌─────────┐┌─────────┐                ┌─────────┐┌─────────┐»\nq_0: ──■──┤ RX(π/3) ├┤ RY(π/5) ├─────────────■──┤ RX(π/3) ├┤ RY(π/5) ├»\n     ┌─┴─┐└─────────┘├─────────┤┌─────────┐┌─┴─┐└─────────┘├─────────┤»\nq_1: ┤ X ├─────■─────┤ RX(π/3) ├┤ RY(π/5) ├┤ X ├─────■─────┤ RX(π/3) ├»\n     └───┘   ┌─┴─┐   ├─────────┤├─────────┤└───┘   ┌─┴─┐   ├─────────┤»\nq_2: ────────┤ X ├───┤ RX(π/3) ├┤ RY(π/5) ├────────┤ X ├───┤ RX(π/3) ├»\n             └───┘   └─────────┘└─────────┘        └───┘   └─────────┘»\nc: 3/═════════════════════════════════════════════════════════════════»\n                                                                      »\n«                     ┌─────────┐┌─────────┐           ┌─┐      \n«q_0: ─────────────■──┤ RX(π/3) ├┤ RY(π/5) ├───────────┤M├──────\n«     ┌─────────┐┌─┴─┐└─────────┘├─────────┤┌─────────┐└╥┘┌─┐   \n«q_1: ┤ RY(π/5) ├┤ X ├─────■─────┤ RX(π/3) ├┤ RY(π/5) ├─╫─┤M├───\n«     ├─────────┤└───┘   ┌─┴─┐   ├─────────┤├─────────┤ ║ └╥┘┌─┐\n«q_2: ┤ RY(π/5) ├────────┤ X ├───┤ RX(π/3) ├┤ RY(π/5) ├─╫──╫─┤M├\n«     └─────────┘        └───┘   └─────────┘└─────────┘ ║  ║ └╥┘\n«c: 3/══════════════════════════════════════════════════╩══╩══╩═\n«                                                       0  1  2 </pre>"
     },
     "metadata": {},
     "execution_count": 6
    }
   ],
   "source": [
    "i=3\n",
    "j=3\n",
    "qc=test(i,j)\n",
    "qc.draw()"
   ]
  },
  {
   "cell_type": "code",
   "execution_count": 7,
   "metadata": {},
   "outputs": [
    {
     "output_type": "stream",
     "name": "stdout",
     "text": [
      "{'000': 44, '001': 193, '010': 15, '011': 123, '100': 344, '101': 32, '110': 161, '111': 112}\n{'010': 13, '001': 358, '110': 116, '000': 40, '100': 221, '011': 144, '111': 96, '101': 36}\n"
     ]
    }
   ],
   "source": [
    "simulator = Aer.get_backend('qasm_simulator')\n",
    "result = execute(qc, simulator, shots=1024)\n",
    "print(result.result().get_counts())\n",
    "\n",
    "from moara_for_qiskit import MoaraSimulator\n",
    "simulator2 = MoaraSimulator()\n",
    "result2 = execute(qc, simulator2, shots=1024)\n",
    "print(result2)"
   ]
  },
  {
   "cell_type": "code",
   "execution_count": 8,
   "metadata": {
    "tags": []
   },
   "outputs": [],
   "source": [
    "# max_depth = 15\n",
    "\n",
    "# def exec_func(sim, circ):\n",
    "#     return execute(circ, sim, optimization_level=0, shots=1024).result().get_counts(circ)\n",
    "\n",
    "# simulator=Aer.get_backend('qasm_simulator')\n",
    "# depth=bench(simulator,max_depth, exec_func)\n",
    "# print(depth)"
   ]
  },
  {
   "cell_type": "code",
   "execution_count": 9,
   "metadata": {},
   "outputs": [],
   "source": [
    "# simulator_name='Qiskit Aer-qasm_simulator'\n",
    "\n",
    "# fig = plt.figure()\n",
    "# ax = fig.add_axes([0,0,1,1])\n",
    "# langs = [i for i in range(10,max_depth)]\n",
    "# ax.bar(langs,depth)\n",
    "# ax.set_title(' MaxDepth(nr,Qubits) ['+ simulator_name+']')\n",
    "# ax.set_xlabel('nr. Qubits')\n",
    "# ax.set_ylabel('Depth (RxRy_Cx)')\n",
    "# plt.show()"
   ]
  },
  {
   "cell_type": "code",
   "execution_count": 10,
   "metadata": {},
   "outputs": [],
   "source": [
    "# max_depth = 15\n",
    "\n",
    "# def exec_func2(sim, circ):\n",
    "#     return execute(circ, sim, optimization_level=0, shots=1024)\n",
    "\n",
    "# from moara_for_qiskit import MoaraSimulator\n",
    "# simulator2 = MoaraSimulator()\n",
    "# depth2=bench(simulator2, max_depth, exec_func2)\n",
    "# print(depth2)"
   ]
  },
  {
   "cell_type": "code",
   "execution_count": 11,
   "metadata": {},
   "outputs": [],
   "source": [
    "# simulator_name2='Moara simulator'\n",
    "# fig = plt.figure()\n",
    "# ax = fig.add_axes([0,0,1,1])\n",
    "# langs = [i for i in range(10,max_depth)]\n",
    "# ax.bar(langs,depth2)\n",
    "# ax.set_title(' MaxDepth(nr,Qubits) ['+ simulator_name2+']')\n",
    "# ax.set_xlabel('nr. Qubits')\n",
    "# ax.set_ylabel('Depth (RxRy_Cx)')\n",
    "# plt.show()"
   ]
  },
  {
   "cell_type": "code",
   "execution_count": 12,
   "metadata": {},
   "outputs": [
    {
     "output_type": "stream",
     "name": "stdout",
     "text": [
      "4.65239405632019\n"
     ]
    }
   ],
   "source": [
    "i=14\n",
    "j=30\n",
    "circ=test(i,j)\n",
    "from moara_for_qiskit import MoaraSimulator\n",
    "sim = MoaraSimulator()\n",
    "start_time = time.time()\n",
    "res = execute(circ, sim, optimization_level=0, shots=1024)\n",
    "duration=(time.time() - start_time)\n",
    "print(duration)\n",
    "#print(res)"
   ]
  },
  {
   "cell_type": "code",
   "execution_count": null,
   "metadata": {},
   "outputs": [],
   "source": []
  }
 ]
}