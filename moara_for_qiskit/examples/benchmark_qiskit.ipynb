{
 "cells": [
  {
   "cell_type": "code",
   "execution_count": 1,
   "metadata": {},
   "outputs": [],
   "source": [
    "import numpy as np \n",
    "import time\n",
    "import matplotlib.pyplot as plt"
   ]
  },
  {
   "cell_type": "code",
   "execution_count": 2,
   "metadata": {},
   "outputs": [],
   "source": [
    "from moara_for_qiskit import MoaraBackend\n",
    "from qiskit import QuantumRegister, ClassicalRegister, QuantumCircuit, execute, Aer, BasicAer\n",
    "from qiskit.visualization import plot_histogram\n",
    "from qiskit.providers.models import QasmBackendConfiguration\n",
    "from qiskit.providers import BaseBackend\n",
    "from qiskit.providers.aer import QasmSimulator"
   ]
  },
  {
   "cell_type": "code",
   "execution_count": 3,
   "metadata": {},
   "outputs": [],
   "source": [
    "max_depth = 30\n",
    "shot_count = 1\n",
    "\n",
    "def getQiskitSimulator():\n",
    "    #return BasicAer.get_backend('qasm_simulator')\n",
    "    #return Aer.get_backend('qasm_simulator')\n",
    "    return QasmSimulator(max_parallel_threads=1, precision=\"single\")\n",
    "\n",
    "def entangler(circuit,n):\n",
    "    for i in range(n-1):\n",
    "        circuit.crx(3,i,i+1)\n",
    "\n",
    "def entanglerReverse(circuit,n):\n",
    "    for i in range(n):\n",
    "        target = n-i-1\n",
    "        if i != target:\n",
    "            circuit.crx(np.pi/7,i,target)\n",
    "\n",
    "def entanglerCX(circuit,n):\n",
    "    for i in range(n-1):\n",
    "        circuit.cx(i,i+1)\n",
    "\n",
    "def entanglerReverseCX(circuit,n):\n",
    "    for i in range(n):\n",
    "        target = n-i-1\n",
    "        if i != target:\n",
    "            circuit.cx(i,target)\n",
    "\n",
    "def Rx(citrcuit,n):\n",
    "    for i in range(n):\n",
    "        citrcuit.rx(np.pi/3,i)\n",
    "\n",
    "def Ry(citrcuit,n):\n",
    "    for i in range(n):\n",
    "        citrcuit.ry(np.pi/5,i)\n",
    "\n",
    "def XY(citrcuit,n):\n",
    "    for i in range(n):\n",
    "        citrcuit.x(i)\n",
    "        citrcuit.y(i)"
   ]
  },
  {
   "cell_type": "code",
   "execution_count": 4,
   "metadata": {},
   "outputs": [],
   "source": [
    "def test(i,j):\n",
    "    qc=QuantumCircuit(i,i)\n",
    "    for k in range(j):\n",
    "        Rx(qc,i)\n",
    "        entangler(qc,i)\n",
    "        Ry(qc,i)\n",
    "        entanglerReverse(qc,i)\n",
    "    qc.measure(range(i), range(i))\n",
    "    return qc"
   ]
  },
  {
   "cell_type": "code",
   "execution_count": 5,
   "metadata": {},
   "outputs": [],
   "source": [
    "def bench(simulator, max_depth, exec_func):\n",
    "    i=2\n",
    "    j=2\n",
    "    depth=[]\n",
    "    for i in range(2,max_depth):\n",
    "        duration=0\n",
    "        while (duration<0.50) and j<101:\n",
    "            test_qc=test(i,j)\n",
    "            start_time = time.time()\n",
    "            a = exec_func(simulator, test_qc)\n",
    "            a.get('0'*i,0)\n",
    "            duration=(time.time() - start_time)\n",
    "            j=j+1\n",
    "        depth.append(j-1)\n",
    "        j=2\n",
    "    return depth\n",
    "\n",
    "def scor(depth):\n",
    "    sc=0\n",
    "    i=2\n",
    "    for x in depth:\n",
    "        sc=sc+depth*i\n",
    "        i=i+1\n",
    "    return sc"
   ]
  },
  {
   "cell_type": "code",
   "execution_count": 6,
   "metadata": {},
   "outputs": [
    {
     "data": {
      "text/html": [
       "<pre style=\"word-wrap: normal;white-space: pre;background: #fff0;line-height: 1.1;font-family: &quot;Courier New&quot;,Courier,monospace\">     ┌─────────┐         ┌─────────┐                                 »\n",
       "q_0: ┤ RX(π/3) ├────■────┤ RY(π/5) ├────────────────■────────────────»\n",
       "     ├─────────┤┌───┴───┐└─────────┘┌─────────┐     │     ┌─────────┐»\n",
       "q_1: ┤ RX(π/3) ├┤ RX(3) ├─────■─────┤ RY(π/5) ├─────┼─────┤ RX(π/3) ├»\n",
       "     ├─────────┤└───────┘ ┌───┴───┐ ├─────────┤┌────┴────┐└─────────┘»\n",
       "q_2: ┤ RX(π/3) ├──────────┤ RX(3) ├─┤ RY(π/5) ├┤ RX(π/7) ├───────────»\n",
       "     └─────────┘          └───────┘ └─────────┘└─────────┘           »\n",
       "c: 3/════════════════════════════════════════════════════════════════»\n",
       "                                                                     »\n",
       "«     ┌─────────┐┌─────────┐         ┌─────────┐                      »\n",
       "«q_0: ┤ RX(π/7) ├┤ RX(π/3) ├────■────┤ RY(π/5) ├────────────────■─────»\n",
       "«     └────┬────┘└─────────┘┌───┴───┐└─────────┘┌─────────┐     │     »\n",
       "«q_1: ─────┼────────────────┤ RX(3) ├─────■─────┤ RY(π/5) ├─────┼─────»\n",
       "«          │     ┌─────────┐└───────┘ ┌───┴───┐ ├─────────┤┌────┴────┐»\n",
       "«q_2: ─────■─────┤ RX(π/3) ├──────────┤ RX(3) ├─┤ RY(π/5) ├┤ RX(π/7) ├»\n",
       "«                └─────────┘          └───────┘ └─────────┘└─────────┘»\n",
       "«c: 3/════════════════════════════════════════════════════════════════»\n",
       "«                                                                     »\n",
       "«                ┌─────────┐┌─────────┐         ┌─────────┐           »\n",
       "«q_0: ───────────┤ RX(π/7) ├┤ RX(π/3) ├────■────┤ RY(π/5) ├───────────»\n",
       "«     ┌─────────┐└────┬────┘└─────────┘┌───┴───┐└─────────┘┌─────────┐»\n",
       "«q_1: ┤ RX(π/3) ├─────┼────────────────┤ RX(3) ├─────■─────┤ RY(π/5) ├»\n",
       "«     └─────────┘     │     ┌─────────┐└───────┘ ┌───┴───┐ ├─────────┤»\n",
       "«q_2: ────────────────■─────┤ RX(π/3) ├──────────┤ RX(3) ├─┤ RY(π/5) ├»\n",
       "«                           └─────────┘          └───────┘ └─────────┘»\n",
       "«c: 3/════════════════════════════════════════════════════════════════»\n",
       "«                                                                     »\n",
       "«                   ┌─────────┐┌─┐   \n",
       "«q_0: ─────■────────┤ RX(π/7) ├┤M├───\n",
       "«          │     ┌─┐└────┬────┘└╥┘   \n",
       "«q_1: ─────┼─────┤M├─────┼──────╫────\n",
       "«     ┌────┴────┐└╥┘     │      ║ ┌─┐\n",
       "«q_2: ┤ RX(π/7) ├─╫──────■──────╫─┤M├\n",
       "«     └─────────┘ ║             ║ └╥┘\n",
       "«c: 3/════════════╩═════════════╩══╩═\n",
       "«                 1             0  2 </pre>"
      ],
      "text/plain": [
       "     ┌─────────┐         ┌─────────┐                                 »\n",
       "q_0: ┤ RX(π/3) ├────■────┤ RY(π/5) ├────────────────■────────────────»\n",
       "     ├─────────┤┌───┴───┐└─────────┘┌─────────┐     │     ┌─────────┐»\n",
       "q_1: ┤ RX(π/3) ├┤ RX(3) ├─────■─────┤ RY(π/5) ├─────┼─────┤ RX(π/3) ├»\n",
       "     ├─────────┤└───────┘ ┌───┴───┐ ├─────────┤┌────┴────┐└─────────┘»\n",
       "q_2: ┤ RX(π/3) ├──────────┤ RX(3) ├─┤ RY(π/5) ├┤ RX(π/7) ├───────────»\n",
       "     └─────────┘          └───────┘ └─────────┘└─────────┘           »\n",
       "c: 3/════════════════════════════════════════════════════════════════»\n",
       "                                                                     »\n",
       "«     ┌─────────┐┌─────────┐         ┌─────────┐                      »\n",
       "«q_0: ┤ RX(π/7) ├┤ RX(π/3) ├────■────┤ RY(π/5) ├────────────────■─────»\n",
       "«     └────┬────┘└─────────┘┌───┴───┐└─────────┘┌─────────┐     │     »\n",
       "«q_1: ─────┼────────────────┤ RX(3) ├─────■─────┤ RY(π/5) ├─────┼─────»\n",
       "«          │     ┌─────────┐└───────┘ ┌───┴───┐ ├─────────┤┌────┴────┐»\n",
       "«q_2: ─────■─────┤ RX(π/3) ├──────────┤ RX(3) ├─┤ RY(π/5) ├┤ RX(π/7) ├»\n",
       "«                └─────────┘          └───────┘ └─────────┘└─────────┘»\n",
       "«c: 3/════════════════════════════════════════════════════════════════»\n",
       "«                                                                     »\n",
       "«                ┌─────────┐┌─────────┐         ┌─────────┐           »\n",
       "«q_0: ───────────┤ RX(π/7) ├┤ RX(π/3) ├────■────┤ RY(π/5) ├───────────»\n",
       "«     ┌─────────┐└────┬────┘└─────────┘┌───┴───┐└─────────┘┌─────────┐»\n",
       "«q_1: ┤ RX(π/3) ├─────┼────────────────┤ RX(3) ├─────■─────┤ RY(π/5) ├»\n",
       "«     └─────────┘     │     ┌─────────┐└───────┘ ┌───┴───┐ ├─────────┤»\n",
       "«q_2: ────────────────■─────┤ RX(π/3) ├──────────┤ RX(3) ├─┤ RY(π/5) ├»\n",
       "«                           └─────────┘          └───────┘ └─────────┘»\n",
       "«c: 3/════════════════════════════════════════════════════════════════»\n",
       "«                                                                     »\n",
       "«                   ┌─────────┐┌─┐   \n",
       "«q_0: ─────■────────┤ RX(π/7) ├┤M├───\n",
       "«          │     ┌─┐└────┬────┘└╥┘   \n",
       "«q_1: ─────┼─────┤M├─────┼──────╫────\n",
       "«     ┌────┴────┐└╥┘     │      ║ ┌─┐\n",
       "«q_2: ┤ RX(π/7) ├─╫──────■──────╫─┤M├\n",
       "«     └─────────┘ ║             ║ └╥┘\n",
       "«c: 3/════════════╩═════════════╩══╩═\n",
       "«                 1             0  2 "
      ]
     },
     "execution_count": 6,
     "metadata": {},
     "output_type": "execute_result"
    }
   ],
   "source": [
    "i=3\n",
    "j=3\n",
    "qc=test(i,j)\n",
    "qc.draw()"
   ]
  },
  {
   "cell_type": "code",
   "execution_count": 7,
   "metadata": {},
   "outputs": [
    {
     "name": "stdout",
     "output_type": "stream",
     "text": [
      "{'000': 101, '001': 56, '010': 110, '011': 126, '100': 243, '101': 56, '110': 111, '111': 221}\n",
      "{'010': 125, '001': 64, '000': 101, '110': 87, '101': 61, '100': 252, '011': 111, '111': 223}\n"
     ]
    },
    {
     "data": {
      "image/png": "[encoded data removed]",
      "text/plain": [
       "<Figure size 504x360 with 1 Axes>"
      ]
     },
     "execution_count": 7,
     "metadata": {},
     "output_type": "execute_result"
    }
   ],
   "source": [
    "simulator = getQiskitSimulator()\n",
    "result = execute(qc, simulator, shots=1024)\n",
    "counts = result.result().get_counts()\n",
    "print(counts)\n",
    "\n",
    "simulator2 = MoaraBackend(True)\n",
    "result2 = execute(qc, simulator2, shots=1024)\n",
    "print(result2)\n",
    "plot_histogram([counts, result2])"
   ]
  },
  {
   "cell_type": "code",
   "execution_count": 8,
   "metadata": {
    "tags": []
   },
   "outputs": [],
   "source": [
    "# def exec_func(sim, circ):\n",
    "#     return execute(circ, sim, optimization_level=0, shots=shot_count).result().get_counts(circ)\n",
    "\n",
    "# simulator=getQiskitSimulator()\n",
    "# depth=bench(simulator,max_depth, exec_func)\n",
    "# print(depth)"
   ]
  },
  {
   "cell_type": "code",
   "execution_count": 9,
   "metadata": {},
   "outputs": [],
   "source": [
    "# simulator_name='Qiskit Aer-qasm_simulator'\n",
    "\n",
    "# fig, ax = plt.subplots()\n",
    "# langs = [i for i in range(2,max_depth)]\n",
    "# ax.bar(langs,depth)\n",
    "# ax.set_title('['+ simulator_name+']')\n",
    "# ax.set_xlabel('nr. Qubits')\n",
    "# ax.set_ylabel('Depth')\n",
    "# plt.savefig('aer.png')\n",
    "# plt.show()"
   ]
  },
  {
   "cell_type": "code",
   "execution_count": 10,
   "metadata": {},
   "outputs": [
    {
     "name": "stdout",
     "output_type": "stream",
     "text": [
      "[100, 100, 100, 100, 100, 100, 100, 100, 100, 100, 100, 99, 89, 58, 36, 20, 11, 6, 3, 2, 2, 2, 2, 2, 2, 2, 2, 2]\n"
     ]
    }
   ],
   "source": [
    "def exec_func2(sim, circ):\n",
    "    return execute(circ, sim, optimization_level=0, shots=shot_count)\n",
    "\n",
    "simulator2 = MoaraBackend()\n",
    "depth2=bench(simulator2, max_depth, exec_func2)\n",
    "print(depth2)"
   ]
  },
  {
   "cell_type": "code",
   "execution_count": 11,
   "metadata": {},
   "outputs": [
    {
     "data": {
      "image/png": "[encoded data removed]",
      "text/plain": [
       "<Figure size 432x288 with 1 Axes>"
      ]
     },
     "metadata": {
      "needs_background": "light"
     },
     "output_type": "display_data"
    }
   ],
   "source": [
    "simulator_name2='Moara Simulator'\n",
    "fig, ax = plt.subplots()\n",
    "langs = [i for i in range(2,max_depth)]\n",
    "ax.bar(langs,depth2)\n",
    "ax.set_title('['+ simulator_name2+']')\n",
    "ax.set_xlabel('nr. Qubits')\n",
    "ax.set_ylabel('Depth')\n",
    "plt.savefig('moara-for-qiskit.png')\n",
    "plt.show()"
   ]
  },
  {
   "cell_type": "code",
   "execution_count": 12,
   "metadata": {},
   "outputs": [
    {
     "name": "stdout",
     "output_type": "stream",
     "text": [
      "18.214067220687866\n"
     ]
    }
   ],
   "source": [
    "i=20\n",
    "j=80\n",
    "circ=test(i,j)\n",
    "sim = MoaraBackend(True)\n",
    "start_time = time.time()\n",
    "res = execute(circ, sim, optimization_level=0, shots=shot_count)\n",
    "duration=(time.time() - start_time)\n",
    "print(duration)\n",
    "#plot_histogram(res)"
   ]
  },
  {
   "cell_type": "code",
   "execution_count": 13,
   "metadata": {},
   "outputs": [
    {
     "name": "stdout",
     "output_type": "stream",
     "text": [
      "7.627519845962524\n"
     ]
    }
   ],
   "source": [
    "i=20\n",
    "j=80\n",
    "circ=test(i,j)\n",
    "\n",
    "sim = getQiskitSimulator()\n",
    "start_time = time.time()\n",
    "res = execute(circ, sim, optimization_level=0, shots=shot_count).result().get_counts(circ)\n",
    "duration=(time.time() - start_time)\n",
    "print(duration)\n",
    "#plot_histogram(res)"
   ]
  },
  {
   "cell_type": "code",
   "execution_count": null,
   "metadata": {},
   "outputs": [],
   "source": []
  }
 ],
 "metadata": {
  "kernelspec": {
   "display_name": "Python 3",
   "language": "python",
   "name": "python3"
  },
  "language_info": {
   "codemirror_mode": {
    "name": "ipython",
    "version": 3
   },
   "file_extension": ".py",
   "mimetype": "text/x-python",
   "name": "python",
   "nbconvert_exporter": "python",
   "pygments_lexer": "ipython3",
   "version": "3.7.9"
  }
 },
 "nbformat": 4,
 "nbformat_minor": 2
}
