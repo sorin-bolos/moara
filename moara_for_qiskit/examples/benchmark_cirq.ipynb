{
 "metadata": {
  "language_info": {
   "codemirror_mode": {
    "name": "ipython",
    "version": 3
   },
   "file_extension": ".py",
   "mimetype": "text/x-python",
   "name": "python",
   "nbconvert_exporter": "python",
   "pygments_lexer": "ipython3",
   "version": "3.7.9-final"
  },
  "orig_nbformat": 2,
  "kernelspec": {
   "name": "python3",
   "display_name": "Python 3",
   "language": "python"
  }
 },
 "nbformat": 4,
 "nbformat_minor": 2,
 "cells": [
  {
   "cell_type": "code",
   "execution_count": 1,
   "metadata": {},
   "outputs": [
    {
     "output_type": "error",
     "ename": "ModuleNotFoundError",
     "evalue": "No module named 'qsimcirq'",
     "traceback": [
      "\u001b[1;31m---------------------------------------------------------------------------\u001b[0m",
      "\u001b[1;31mModuleNotFoundError\u001b[0m                       Traceback (most recent call last)",
      "\u001b[1;32m<ipython-input-1-4dbe9b65fa78>\u001b[0m in \u001b[0;36m<module>\u001b[1;34m\u001b[0m\n\u001b[0;32m      1\u001b[0m \u001b[1;32mimport\u001b[0m \u001b[0mcirq\u001b[0m\u001b[1;33m\u001b[0m\u001b[1;33m\u001b[0m\u001b[0m\n\u001b[1;32m----> 2\u001b[1;33m \u001b[1;32mimport\u001b[0m \u001b[0mqsimcirq\u001b[0m\u001b[1;33m\u001b[0m\u001b[1;33m\u001b[0m\u001b[0m\n\u001b[0m",
      "\u001b[1;31mModuleNotFoundError\u001b[0m: No module named 'qsimcirq'"
     ]
    }
   ],
   "source": [
    "#!make"
   ]
  },
  {
   "cell_type": "code",
   "execution_count": 447,
   "metadata": {},
   "outputs": [
    {
     "output_type": "error",
     "ename": "SyntaxError",
     "evalue": "'continue' not properly in loop (moara_simulator.py, line 53)",
     "traceback": [
      "Traceback \u001b[1;36m(most recent call last)\u001b[0m:\n",
      "  File \u001b[0;32m\"C:\\Users\\Sorin\\Anaconda3\\envs\\moara\\lib\\site-packages\\IPython\\core\\interactiveshell.py\"\u001b[0m, line \u001b[0;32m3418\u001b[0m, in \u001b[0;35mrun_code\u001b[0m\n    exec(code_obj, self.user_global_ns, self.user_ns)\n",
      "  File \u001b[0;32m\"<ipython-input-447-2c61748003b9>\"\u001b[0m, line \u001b[0;32m3\u001b[0m, in \u001b[0;35m<module>\u001b[0m\n    import py_moara\n",
      "\u001b[1;36m  File \u001b[1;32m\"C:\\Users\\Sorin\\Anaconda3\\envs\\moara\\lib\\site-packages\\py_moara\\__init__.py\"\u001b[1;36m, line \u001b[1;32m1\u001b[1;36m, in \u001b[1;35m<module>\u001b[1;36m\u001b[0m\n\u001b[1;33m    from .moara_simulator import MoaraSimulator\u001b[0m\n",
      "\u001b[1;36m  File \u001b[1;32m\"C:\\Users\\Sorin\\Anaconda3\\envs\\moara\\lib\\site-packages\\py_moara\\moara_simulator.py\"\u001b[1;36m, line \u001b[1;32m53\u001b[0m\n\u001b[1;33m    continue\u001b[0m\n\u001b[1;37m    ^\u001b[0m\n\u001b[1;31mSyntaxError\u001b[0m\u001b[1;31m:\u001b[0m 'continue' not properly in loop\n"
     ]
    }
   ],
   "source": [
    "import cirq\n",
    "#import qsimcirq\n",
    "import py_moara\n",
    "from cirq.ops import *"
   ]
  },
  {
   "cell_type": "code",
   "execution_count": 2,
   "metadata": {},
   "outputs": [],
   "source": [
    "import numpy as np \n",
    "import time\n",
    "import matplotlib.pyplot as plt"
   ]
  },
  {
   "cell_type": "code",
   "execution_count": 3,
   "metadata": {},
   "outputs": [],
   "source": [
    "max_depth = 20\n",
    "shot_count = 1\n",
    "\n",
    "def getSimulator():\n",
    "    #return cirq.Simulator()\n",
    "    return qsimcirq.QSimSimulator()\n",
    "\n",
    "def entangler(circuit,qubits):\n",
    "    n = len(qubits)\n",
    "    for i in range(n-1):\n",
    "        circuit.append(rx(3)(qubits[i+1]).controlled_by(qubits[i]))\n",
    "\n",
    "def entanglerReverse(circuit,qubits):\n",
    "    n = len(qubits)\n",
    "    for i in range(n):\n",
    "        target = n-i-1\n",
    "        if i != target:\n",
    "            circuit.append(rx(np.pi/7)(qubits[target]).controlled_by(qubits[i]))\n",
    "\n",
    "def entanglerCX(circuit,qubits):\n",
    "    n = len(qubits)\n",
    "    for i in range(n-1):\n",
    "        circuit.append(CX(qubits[i],qubits[i+1]))\n",
    "\n",
    "def entanglerReverseCX(circuit,qubits):\n",
    "    n = len(qubits)\n",
    "    for i in range(n):\n",
    "        target = n-i-1\n",
    "        if i != target:\n",
    "            circuit.append(CX(qubits[i],qubits[target]))\n",
    "\n",
    "def Rx(citrcuit,qubits):\n",
    "    for q in qubits:\n",
    "        citrcuit.append(rx(np.pi/3)(q))\n",
    "\n",
    "def Ry(citrcuit,qubits):\n",
    "    for q in qubits:\n",
    "        citrcuit.append(ry(np.pi/5)(q))\n",
    "\n",
    "def XY(citrcuit,qubits):\n",
    "    for q in qubits:\n",
    "        citrcuit.append(X(q))\n",
    "        citrcuit.append(Y(q))"
   ]
  },
  {
   "cell_type": "code",
   "execution_count": 4,
   "metadata": {},
   "outputs": [],
   "source": [
    "def bench(simulator, max_depth, exec_func):\n",
    "    i=2\n",
    "    j=2\n",
    "    depth=[]\n",
    "    for i in range(2,max_depth):\n",
    "        duration=0\n",
    "        while (duration<0.50) and j<101:\n",
    "            test_qc=test(i,j)\n",
    "            start_time = time.time()\n",
    "            a = exec_func(simulator, test_qc)\n",
    "            a._measurements.get('0',0)\n",
    "            duration=(time.time() - start_time)\n",
    "            j=j+1\n",
    "        depth.append(j-1)\n",
    "        j=2\n",
    "    return depth\n",
    "\n",
    "def scor(depth):\n",
    "    sc=0\n",
    "    i=2\n",
    "    for x in depth:\n",
    "        sc=sc+depth*i\n",
    "        i=i+1\n",
    "    return sc"
   ]
  },
  {
   "cell_type": "code",
   "execution_count": 5,
   "metadata": {},
   "outputs": [],
   "source": [
    "def test(i,j):\n",
    "    qubits = cirq.LineQubit.range(i)\n",
    "    qc = cirq.Circuit()\n",
    "    for k in range(j):\n",
    "        Rx(qc,qubits)\n",
    "        entangler(qc,qubits)\n",
    "        Ry(qc,qubits)\n",
    "        entanglerReverse(qc,qubits)\n",
    "    for q in qubits:\n",
    "        qc.append(measure(q))\n",
    "    return qc"
   ]
  },
  {
   "cell_type": "code",
   "execution_count": 6,
   "metadata": {},
   "outputs": [
    {
     "output_type": "error",
     "ename": "NameError",
     "evalue": "name 'qsimcirq' is not defined",
     "traceback": [
      "\u001b[1;31m---------------------------------------------------------------------------\u001b[0m",
      "\u001b[1;31mNameError\u001b[0m                                 Traceback (most recent call last)",
      "\u001b[1;32m<ipython-input-6-e0b48e46347b>\u001b[0m in \u001b[0;36m<module>\u001b[1;34m\u001b[0m\n\u001b[0;32m      2\u001b[0m     \u001b[1;32mreturn\u001b[0m \u001b[0msim\u001b[0m\u001b[1;33m.\u001b[0m\u001b[0mrun\u001b[0m\u001b[1;33m(\u001b[0m\u001b[0mcirc\u001b[0m\u001b[1;33m)\u001b[0m\u001b[1;33m\u001b[0m\u001b[1;33m\u001b[0m\u001b[0m\n\u001b[0;32m      3\u001b[0m \u001b[1;33m\u001b[0m\u001b[0m\n\u001b[1;32m----> 4\u001b[1;33m \u001b[0msimulator\u001b[0m\u001b[1;33m=\u001b[0m\u001b[0mgetSimulator\u001b[0m\u001b[1;33m(\u001b[0m\u001b[1;33m)\u001b[0m\u001b[1;33m\u001b[0m\u001b[1;33m\u001b[0m\u001b[0m\n\u001b[0m\u001b[0;32m      5\u001b[0m \u001b[0mdepth\u001b[0m\u001b[1;33m=\u001b[0m\u001b[0mbench\u001b[0m\u001b[1;33m(\u001b[0m\u001b[0msimulator\u001b[0m\u001b[1;33m,\u001b[0m\u001b[0mmax_depth\u001b[0m\u001b[1;33m,\u001b[0m \u001b[0mexec_func\u001b[0m\u001b[1;33m)\u001b[0m\u001b[1;33m\u001b[0m\u001b[1;33m\u001b[0m\u001b[0m\n\u001b[0;32m      6\u001b[0m \u001b[0mprint\u001b[0m\u001b[1;33m(\u001b[0m\u001b[0mdepth\u001b[0m\u001b[1;33m)\u001b[0m\u001b[1;33m\u001b[0m\u001b[1;33m\u001b[0m\u001b[0m\n",
      "\u001b[1;32m<ipython-input-3-8e64ebd05a2d>\u001b[0m in \u001b[0;36mgetSimulator\u001b[1;34m()\u001b[0m\n\u001b[0;32m      4\u001b[0m \u001b[1;32mdef\u001b[0m \u001b[0mgetSimulator\u001b[0m\u001b[1;33m(\u001b[0m\u001b[1;33m)\u001b[0m\u001b[1;33m:\u001b[0m\u001b[1;33m\u001b[0m\u001b[1;33m\u001b[0m\u001b[0m\n\u001b[0;32m      5\u001b[0m     \u001b[1;31m#return cirq.Simulator()\u001b[0m\u001b[1;33m\u001b[0m\u001b[1;33m\u001b[0m\u001b[1;33m\u001b[0m\u001b[0m\n\u001b[1;32m----> 6\u001b[1;33m     \u001b[1;32mreturn\u001b[0m \u001b[0mqsimcirq\u001b[0m\u001b[1;33m.\u001b[0m\u001b[0mQSimSimulator\u001b[0m\u001b[1;33m(\u001b[0m\u001b[1;33m)\u001b[0m\u001b[1;33m\u001b[0m\u001b[1;33m\u001b[0m\u001b[0m\n\u001b[0m\u001b[0;32m      7\u001b[0m \u001b[1;33m\u001b[0m\u001b[0m\n\u001b[0;32m      8\u001b[0m \u001b[1;32mdef\u001b[0m \u001b[0mentangler\u001b[0m\u001b[1;33m(\u001b[0m\u001b[0mcircuit\u001b[0m\u001b[1;33m,\u001b[0m\u001b[0mqubits\u001b[0m\u001b[1;33m)\u001b[0m\u001b[1;33m:\u001b[0m\u001b[1;33m\u001b[0m\u001b[1;33m\u001b[0m\u001b[0m\n",
      "\u001b[1;31mNameError\u001b[0m: name 'qsimcirq' is not defined"
     ]
    }
   ],
   "source": [
    "def exec_func(sim, circ):\n",
    "    return sim.run(circ)\n",
    "\n",
    "simulator=getSimulator()\n",
    "depth=bench(simulator,max_depth, exec_func)\n",
    "print(depth)"
   ]
  },
  {
   "cell_type": "code",
   "execution_count": null,
   "metadata": {},
   "outputs": [],
   "source": [
    "simulator_name='Qiskit Aer-qasm_simulator'\n",
    "\n",
    "fig = plt.figure()\n",
    "ax = fig.add_axes([0,0,1,1])\n",
    "langs = [i for i in range(2,max_depth)]\n",
    "ax.bar(langs,depth)\n",
    "ax.set_title(' MaxDepth(nr,Qubits) ['+ simulator_name+']')\n",
    "ax.set_xlabel('nr. Qubits')\n",
    "ax.set_ylabel('Depth (RxRy_Cx)')\n",
    "plt.show()"
   ]
  },
  {
   "cell_type": "code",
   "execution_count": 81,
   "metadata": {},
   "outputs": [
    {
     "output_type": "execute_result",
     "data": {
      "text/plain": [
       "cirq.rx(np.pi*0.954929658551372).on(cirq.LineQubit(1)).controlled_by(cirq.LineQubit(0))"
      ]
     },
     "metadata": {},
     "execution_count": 81
    }
   ],
   "source": [
    "i=3\n",
    "j=3\n",
    "p=test(i,j)\n",
    "p._moments[1]._operations[0]#._qubits[0].__dict__#._gate.__dict__"
   ]
  },
  {
   "cell_type": "code",
   "execution_count": 82,
   "metadata": {},
   "outputs": [
    {
     "output_type": "execute_result",
     "data": {
      "text/plain": [
       "'GateOperation'"
      ]
     },
     "metadata": {},
     "execution_count": 82
    }
   ],
   "source": [
    "type(p._moments[0]._operations[0]).__name__"
   ]
  },
  {
   "cell_type": "code",
   "execution_count": 84,
   "metadata": {},
   "outputs": [
    {
     "output_type": "execute_result",
     "data": {
      "text/plain": [
       "{'_gate': cirq.rx(np.pi*0.3333333333333333), '_qubits': (cirq.LineQubit(0),)}"
      ]
     },
     "metadata": {},
     "execution_count": 84
    }
   ],
   "source": [
    "p._moments[0]._operations[0].__dict__"
   ]
  },
  {
   "cell_type": "code",
   "execution_count": 428,
   "metadata": {},
   "outputs": [
    {
     "output_type": "stream",
     "name": "stdout",
     "text": [
      "0: ───@───M───\n      │   │\n1: ───X───M───\n      │\n2: ───@───────\n"
     ]
    }
   ],
   "source": [
    "qb = cirq.LineQubit.range(3)\n",
    "circ = cirq.Circuit()\n",
    "circ.append(CNOT(qb[0],qb[1]).controlled_by(qb[2]))\n",
    "circ.append(cirq.measure(qb[1],qb[0]))\n",
    "\n",
    "#type(circ._moments[0]._operations[0]).__name__\n",
    "#circ._moments[0]._operations[0]._gate.__dict__\n",
    "print(circ)"
   ]
  },
  {
   "cell_type": "code",
   "execution_count": 443,
   "metadata": {},
   "outputs": [
    {
     "output_type": "execute_result",
     "data": {
      "text/plain": [
       "(cirq.LineQubit(2),)"
      ]
     },
     "metadata": {},
     "execution_count": 443
    }
   ],
   "source": [
    "circ.moments[0].operations[0].controls"
   ]
  },
  {
   "cell_type": "code",
   "execution_count": 440,
   "metadata": {},
   "outputs": [
    {
     "output_type": "execute_result",
     "data": {
      "text/plain": [
       "cirq.ops.controlled_gate.ControlledGate"
      ]
     },
     "metadata": {},
     "execution_count": 440
    }
   ],
   "source": [
    "type(circ.moments[0].operations[0].gate).__name__\n",
    "type(circ.moments[0].operations[0].gate)\n",
    "#cirq.unitary(circ.moments[0].operations[0].gate)\n",
    "#isinstance(circ.moments[0].operations[0].gate, cirq.ops.XPowGate)\n",
    "#type(circ.moments[0].operations[0]).__name__"
   ]
  },
  {
   "cell_type": "code",
   "execution_count": 173,
   "metadata": {},
   "outputs": [
    {
     "output_type": "execute_result",
     "data": {
      "text/plain": [
       "{'_explicit_func': <function cirq.ops.qubit_order.QubitOrder.sorted_by.<locals>.<lambda>(qubits)>}"
      ]
     },
     "metadata": {},
     "execution_count": 173
    }
   ],
   "source": [
    "from cirq import ops\n",
    "ops.QubitOrder.DEFAULT.__dict__"
   ]
  }
 ]
}