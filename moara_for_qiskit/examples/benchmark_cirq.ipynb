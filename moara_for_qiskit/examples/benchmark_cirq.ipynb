{
 "metadata": {
  "language_info": {
   "codemirror_mode": {
    "name": "ipython",
    "version": 3
   },
   "file_extension": ".py",
   "mimetype": "text/x-python",
   "name": "python",
   "nbconvert_exporter": "python",
   "pygments_lexer": "ipython3",
   "version": "3.7.9-final"
  },
  "orig_nbformat": 2,
  "kernelspec": {
   "name": "python3",
   "display_name": "Python 3",
   "language": "python"
  }
 },
 "nbformat": 4,
 "nbformat_minor": 2,
 "cells": [
  {
   "cell_type": "code",
   "execution_count": 1,
   "metadata": {},
   "outputs": [
    {
     "output_type": "error",
     "ename": "ModuleNotFoundError",
     "evalue": "No module named 'qsimcirq'",
     "traceback": [
      "\u001b[1;31m---------------------------------------------------------------------------\u001b[0m",
      "\u001b[1;31mModuleNotFoundError\u001b[0m                       Traceback (most recent call last)",
      "\u001b[1;32m<ipython-input-1-4dbe9b65fa78>\u001b[0m in \u001b[0;36m<module>\u001b[1;34m\u001b[0m\n\u001b[0;32m      1\u001b[0m \u001b[1;32mimport\u001b[0m \u001b[0mcirq\u001b[0m\u001b[1;33m\u001b[0m\u001b[1;33m\u001b[0m\u001b[0m\n\u001b[1;32m----> 2\u001b[1;33m \u001b[1;32mimport\u001b[0m \u001b[0mqsimcirq\u001b[0m\u001b[1;33m\u001b[0m\u001b[1;33m\u001b[0m\u001b[0m\n\u001b[0m",
      "\u001b[1;31mModuleNotFoundError\u001b[0m: No module named 'qsimcirq'"
     ]
    }
   ],
   "source": [
    "!make"
   ]
  },
  {
   "cell_type": "code",
   "execution_count": null,
   "metadata": {},
   "outputs": [],
   "source": [
    "import cirq\n",
    "import qsimcirq\n",
    "from cirq.ops import *"
   ]
  },
  {
   "cell_type": "code",
   "execution_count": null,
   "metadata": {},
   "outputs": [],
   "source": [
    "import numpy as np \n",
    "import time\n",
    "import matplotlib.pyplot as plt"
   ]
  },
  {
   "cell_type": "code",
   "execution_count": null,
   "metadata": {},
   "outputs": [],
   "source": [
    "max_depth = 20\n",
    "shot_count = 1\n",
    "\n",
    "def getSimulator():\n",
    "    #return cirq.Simulator()\n",
    "    return qsimcirq.QSimSimulator()\n",
    "\n",
    "def entangler(circuit,qubits):\n",
    "    n = len(qubits)\n",
    "    for i in range(n-1):\n",
    "        circuit.append(rx(3)(qubits[i+1]).controlled_by(qubits[i]))\n",
    "\n",
    "def entanglerReverse(circuit,qubits):\n",
    "    n = len(qubits)\n",
    "    for i in range(n):\n",
    "        target = n-i-1\n",
    "        if i != target:\n",
    "            circuit.append(rx(np.pi/7)(qubits[target]).controlled_by(qubits[i]))\n",
    "\n",
    "def entanglerCX(circuit,qubits):\n",
    "    n = len(qubits)\n",
    "    for i in range(n-1):\n",
    "        circuit.append(CX(qubits[i],qubits[i+1]))\n",
    "\n",
    "def entanglerReverseCX(circuit,qubits):\n",
    "    n = len(qubits)\n",
    "    for i in range(n):\n",
    "        target = n-i-1\n",
    "        if i != target:\n",
    "            circuit.append(CX(qubits[i],qubits[target]))\n",
    "\n",
    "def Rx(citrcuit,qubits):\n",
    "    for q in qubits:\n",
    "        citrcuit.append(rx(np.pi/3)(q))\n",
    "\n",
    "def Ry(citrcuit,qubits):\n",
    "    for q in qubits:\n",
    "        citrcuit.append(ry(np.pi/5)(q))\n",
    "\n",
    "def XY(citrcuit,qubits):\n",
    "    for q in qubits:\n",
    "        citrcuit.append(X(q))\n",
    "        citrcuit.append(Y(q))"
   ]
  },
  {
   "cell_type": "code",
   "execution_count": null,
   "metadata": {},
   "outputs": [],
   "source": [
    "def bench(simulator, max_depth, exec_func):\n",
    "    i=2\n",
    "    j=2\n",
    "    depth=[]\n",
    "    for i in range(2,max_depth):\n",
    "        duration=0\n",
    "        while (duration<0.50) and j<101:\n",
    "            test_qc=test(i,j)\n",
    "            start_time = time.time()\n",
    "            a = exec_func(simulator, test_qc)\n",
    "            a._measurements.get('0',0)\n",
    "            duration=(time.time() - start_time)\n",
    "            j=j+1\n",
    "        depth.append(j-1)\n",
    "        j=2\n",
    "    return depth\n",
    "\n",
    "def scor(depth):\n",
    "    sc=0\n",
    "    i=2\n",
    "    for x in depth:\n",
    "        sc=sc+depth*i\n",
    "        i=i+1\n",
    "    return sc"
   ]
  },
  {
   "cell_type": "code",
   "execution_count": null,
   "metadata": {},
   "outputs": [],
   "source": [
    "def test(i,j):\n",
    "    qubits = cirq.LineQubit.range(i)\n",
    "    qc = cirq.Circuit()\n",
    "    for k in range(j):\n",
    "        Rx(qc,qubits)\n",
    "        entangler(qc,qubits)\n",
    "        Ry(qc,qubits)\n",
    "        entanglerReverse(qc,qubits)\n",
    "    for q in qubits:\n",
    "        qc.append(measure(q))\n",
    "    return qc"
   ]
  },
  {
   "cell_type": "code",
   "execution_count": null,
   "metadata": {},
   "outputs": [],
   "source": [
    "def exec_func(sim, circ):\n",
    "    return sim.run(circ)\n",
    "\n",
    "simulator=getSimulator()\n",
    "depth=bench(simulator,max_depth, exec_func)\n",
    "print(depth)"
   ]
  },
  {
   "cell_type": "code",
   "execution_count": null,
   "metadata": {},
   "outputs": [],
   "source": [
    "simulator_name='Qiskit Aer-qasm_simulator'\n",
    "\n",
    "fig = plt.figure()\n",
    "ax = fig.add_axes([0,0,1,1])\n",
    "langs = [i for i in range(2,max_depth)]\n",
    "ax.bar(langs,depth)\n",
    "ax.set_title(' MaxDepth(nr,Qubits) ['+ simulator_name+']')\n",
    "ax.set_xlabel('nr. Qubits')\n",
    "ax.set_ylabel('Depth (RxRy_Cx)')\n",
    "plt.show()"
   ]
  }
 ]
}