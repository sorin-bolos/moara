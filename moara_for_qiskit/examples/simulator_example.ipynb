{
 "cells": [
  {
   "cell_type": "code",
   "execution_count": 1,
   "metadata": {},
   "outputs": [],
   "source": [
    "from moara_for_qiskit import MoaraSimulator\n",
    "from qiskit import QuantumRegister, ClassicalRegister, QuantumCircuit, execute, Aer\n",
    "from qiskit.visualization import plot_histogram\n",
    "from qiskit.providers.models import QasmBackendConfiguration\n",
    "from qiskit.providers import BaseBackend\n",
    "import numpy as np \n",
    "import time\n",
    "import matplotlib.pyplot as plt"
   ]
  },
  {
   "cell_type": "code",
   "execution_count": 2,
   "metadata": {},
   "outputs": [
    {
     "output_type": "execute_result",
     "data": {
      "text/plain": [
       "        ┌───┐ ░ ┌─┐   \n",
       "   q_0: ┤ H ├─░─┤M├───\n",
       "        ├───┤ ░ └╥┘┌─┐\n",
       "   q_1: ┤ H ├─░──╫─┤M├\n",
       "        └───┘ ░  ║ └╥┘\n",
       "meas: 2/═════════╩══╩═\n",
       "                 0  1 "
      ],
      "text/html": "<pre style=\"word-wrap: normal;white-space: pre;background: #fff0;line-height: 1.1;font-family: &quot;Courier New&quot;,Courier,monospace\">        ┌───┐ ░ ┌─┐   \n   q_0: ┤ H ├─░─┤M├───\n        ├───┤ ░ └╥┘┌─┐\n   q_1: ┤ H ├─░──╫─┤M├\n        └───┘ ░  ║ └╥┘\nmeas: 2/═════════╩══╩═\n                 0  1 </pre>"
     },
     "metadata": {},
     "execution_count": 2
    }
   ],
   "source": [
    "circuit = QuantumCircuit(2)\n",
    "circuit.h(0)\n",
    "circuit.h(1)\n",
    "circuit.measure_all()\n",
    "circuit.draw()"
   ]
  },
  {
   "cell_type": "code",
   "execution_count": 3,
   "metadata": {
    "tags": []
   },
   "outputs": [
    {
     "output_type": "stream",
     "name": "stdout",
     "text": [
      "{'11': 241, '00': 258, '01': 266, '10': 259}\n"
     ]
    }
   ],
   "source": [
    "simulator = MoaraSimulator()\n",
    "result = execute(circuit, simulator, shots=1024)\n",
    "print(result)"
   ]
  },
  {
   "cell_type": "code",
   "execution_count": 4,
   "metadata": {},
   "outputs": [
    {
     "output_type": "stream",
     "name": "stdout",
     "text": [
      "{'00': 266, '01': 254, '10': 255, '11': 249}\n"
     ]
    }
   ],
   "source": [
    "simulator = Aer.get_backend('qasm_simulator')\n",
    "result = execute(circuit, simulator, shots=1024).result().get_counts()\n",
    "print(result)"
   ]
  },
  {
   "cell_type": "code",
   "execution_count": null,
   "metadata": {},
   "outputs": [],
   "source": []
  }
 ],
 "metadata": {
  "kernelspec": {
   "display_name": "Python 3",
   "language": "python",
   "name": "python3"
  },
  "language_info": {
   "codemirror_mode": {
    "name": "ipython",
    "version": 3
   },
   "file_extension": ".py",
   "mimetype": "text/x-python",
   "name": "python",
   "nbconvert_exporter": "python",
   "pygments_lexer": "ipython3",
   "version": "3.7.9-final"
  }
 },
 "nbformat": 4,
 "nbformat_minor": 2
}