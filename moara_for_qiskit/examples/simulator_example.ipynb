{
 "cells": [
  {
   "cell_type": "code",
   "execution_count": 1,
   "metadata": {},
   "outputs": [],
   "source": [
    "from qiskit import QuantumRegister, ClassicalRegister, QuantumCircuit, execute, Aer\n",
    "from qiskit.visualization import plot_histogram\n",
    "from qiskit.providers.models import QasmBackendConfiguration\n",
    "from qiskit.providers import BaseBackend\n",
    "from moara_for_qiskit import MoaraSimulator"
   ]
  },
  {
   "cell_type": "code",
   "execution_count": 2,
   "metadata": {},
   "outputs": [
    {
     "output_type": "execute_result",
     "data": {
      "text/plain": [
       "        ┌───────┐ ░ ┌─┐   \n",
       "   q_0: ┤ U1(1) ├─░─┤M├───\n",
       "        └───────┘ ░ └╥┘┌─┐\n",
       "   q_1: ──────────░──╫─┤M├\n",
       "                  ░  ║ └╥┘\n",
       "meas: 2/═════════════╩══╩═\n",
       "                     0  1 "
      ],
      "text/html": "<pre style=\"word-wrap: normal;white-space: pre;background: #fff0;line-height: 1.1;font-family: &quot;Courier New&quot;,Courier,monospace\">        ┌───────┐ ░ ┌─┐   \n   q_0: ┤ U1(1) ├─░─┤M├───\n        └───────┘ ░ └╥┘┌─┐\n   q_1: ──────────░──╫─┤M├\n                  ░  ║ └╥┘\nmeas: 2/═════════════╩══╩═\n                     0  1 </pre>"
     },
     "metadata": {},
     "execution_count": 2
    }
   ],
   "source": [
    "circuit = QuantumCircuit(2)\n",
    "circuit.u1(1,0)\n",
    "circuit.measure_all()\n",
    "circuit.draw()"
   ]
  },
  {
   "cell_type": "code",
   "execution_count": 3,
   "metadata": {
    "tags": []
   },
   "outputs": [
    {
     "output_type": "stream",
     "name": "stdout",
     "text": [
      "\nQASM Experiment:\nHeader:\n{'clbit_labels': [['meas', 0], ['meas', 1]],\n 'creg_sizes': [['meas', 2]],\n 'global_phase': 0,\n 'memory_slots': 2,\n 'n_qubits': 2,\n 'name': 'circuit7',\n 'qreg_sizes': [['q', 2]],\n 'qubit_labels': [['q', 0], ['q', 1]]}\nConfig:\n{'memory_slots': 2, 'n_qubits': 2}\n\n\tInstruction: u3\n\t\tparams: [0, 0, 1.0]\n\t\tqubits: [0]\n\n\tInstruction: barrier\n\t\tqubits: [0, 1]\n\n\tInstruction: measure\n\t\tqubits: [0]\n\t\tmemory: [0]\n\n\tInstruction: measure\n\t\tqubits: [1]\n\t\tmemory: [1]\n\n\n"
     ]
    }
   ],
   "source": [
    "simulator = MoaraSimulator()\n",
    "result = execute(circuit, simulator, shots=1024)\n",
    "print(result)"
   ]
  },
  {
   "cell_type": "code",
   "execution_count": 78,
   "metadata": {},
   "outputs": [
    {
     "output_type": "stream",
     "name": "stdout",
     "text": [
      "{'00': 880, '01': 144}\n"
     ]
    }
   ],
   "source": [
    "simulator = Aer.get_backend('qasm_simulator')\n",
    "result = execute(circuit, simulator, shots=1024).result().get_counts()\n",
    "print(result)"
   ]
  },
  {
   "cell_type": "code",
   "execution_count": null,
   "metadata": {},
   "outputs": [],
   "source": []
  }
 ],
 "metadata": {
  "kernelspec": {
   "display_name": "Python 3",
   "language": "python",
   "name": "python3"
  },
  "language_info": {
   "codemirror_mode": {
    "name": "ipython",
    "version": 3
   },
   "file_extension": ".py",
   "mimetype": "text/x-python",
   "name": "python",
   "nbconvert_exporter": "python",
   "pygments_lexer": "ipython3",
   "version": "3.7.9-final"
  }
 },
 "nbformat": 4,
 "nbformat_minor": 2
}