{
 "cells": [
  {
   "cell_type": "code",
   "execution_count": 1,
   "metadata": {},
   "outputs": [],
   "source": [
    "from moara_for_qiskit import MoaraSimulator\n",
    "from qiskit import QuantumRegister, ClassicalRegister, QuantumCircuit, execute, Aer\n",
    "from qiskit.visualization import plot_histogram\n",
    "from qiskit.providers.models import QasmBackendConfiguration\n",
    "from qiskit.providers import BaseBackend\n",
    "import numpy as np \n",
    "import time\n",
    "import matplotlib.pyplot as plt"
   ]
  },
  {
   "cell_type": "code",
   "execution_count": 2,
   "metadata": {},
   "outputs": [
    {
     "output_type": "execute_result",
     "data": {
      "text/plain": [
       "                    ░ ┌─┐   \n",
       "   q_0: ────────────░─┤M├───\n",
       "        ┌─────────┐ ░ └╥┘┌─┐\n",
       "   q_1: ┤ RX(π/3) ├─░──╫─┤M├\n",
       "        └─────────┘ ░  ║ └╥┘\n",
       "meas: 2/═══════════════╩══╩═\n",
       "                       0  1 "
      ],
      "text/html": "<pre style=\"word-wrap: normal;white-space: pre;background: #fff0;line-height: 1.1;font-family: &quot;Courier New&quot;,Courier,monospace\">                    ░ ┌─┐   \n   q_0: ────────────░─┤M├───\n        ┌─────────┐ ░ └╥┘┌─┐\n   q_1: ┤ RX(π/3) ├─░──╫─┤M├\n        └─────────┘ ░  ║ └╥┘\nmeas: 2/═══════════════╩══╩═\n                       0  1 </pre>"
     },
     "metadata": {},
     "execution_count": 2
    }
   ],
   "source": [
    "circuit = QuantumCircuit(2)\n",
    "#circuit.h(0)\n",
    "circuit.rx(np.pi/3,1)\n",
    "circuit.measure_all()\n",
    "circuit.draw()"
   ]
  },
  {
   "cell_type": "code",
   "execution_count": 12,
   "metadata": {
    "tags": []
   },
   "outputs": [
    {
     "output_type": "stream",
     "name": "stdout",
     "text": [
      "QASM Qobj: eb5c2aad-8e9d-49d4-8972-e5e8f5393041:\nConfig: {'max_credits': 10,\n 'memory': False,\n 'memory_slots': 2,\n 'n_qubits': 2,\n 'parameter_binds': [],\n 'parametric_pulses': [],\n 'shots': 1024}\nHeader: {'backend_name': 'moara_for_qiskit', 'backend_version': '0.2'}\nExperiments:\n\nQASM Experiment:\nHeader:\n{'clbit_labels': [['meas', 0], ['meas', 1]],\n 'creg_sizes': [['meas', 2]],\n 'global_phase': 0.0,\n 'memory_slots': 2,\n 'n_qubits': 2,\n 'name': 'circuit7',\n 'qreg_sizes': [['q', 2]],\n 'qubit_labels': [['q', 0], ['q', 1]]}\nConfig:\n{'memory_slots': 2, 'n_qubits': 2}\n\n\tInstruction: rx\n\t\tparams: [1.0471975511965976]\n\t\tqubits: [1]\n\n\tInstruction: barrier\n\t\tqubits: [0, 1]\n\n\tInstruction: measure\n\t\tqubits: [0]\n\t\tmemory: [0]\n\n\tInstruction: measure\n\t\tqubits: [1]\n\t\tmemory: [1]\n\n\n"
     ]
    }
   ],
   "source": [
    "simulator = MoaraSimulator()\n",
    "result = execute(circuit, simulator, shots=1024)\n",
    "print(result)"
   ]
  },
  {
   "cell_type": "code",
   "execution_count": 4,
   "metadata": {},
   "outputs": [
    {
     "output_type": "stream",
     "name": "stdout",
     "text": [
      "{'00': 783, '10': 241}\n"
     ]
    }
   ],
   "source": [
    "# simulator = Aer.get_backend('qasm_simulator')\n",
    "# result = execute(circuit, simulator, shots=1024).result().get_counts()\n",
    "# print(result)"
   ]
  },
  {
   "cell_type": "code",
   "execution_count": 14,
   "metadata": {},
   "outputs": [
    {
     "output_type": "execute_result",
     "data": {
      "text/plain": [
       "[QasmQobjInstruction(name='rx', params=[1.0471975511965976], qubits=[1]),\n",
       " QasmQobjInstruction(name='barrier', qubits=[0, 1]),\n",
       " QasmQobjInstruction(name='measure', qubits=[0], memory=[0]),\n",
       " QasmQobjInstruction(name='measure', qubits=[1], memory=[1])]"
      ]
     },
     "metadata": {},
     "execution_count": 14
    }
   ],
   "source": [
    "result.experiments[0].instructions"
   ]
  },
  {
   "cell_type": "code",
   "execution_count": null,
   "metadata": {},
   "outputs": [],
   "source": []
  }
 ],
 "metadata": {
  "kernelspec": {
   "display_name": "Python 3",
   "language": "python",
   "name": "python3"
  },
  "language_info": {
   "codemirror_mode": {
    "name": "ipython",
    "version": 3
   },
   "file_extension": ".py",
   "mimetype": "text/x-python",
   "name": "python",
   "nbconvert_exporter": "python",
   "pygments_lexer": "ipython3",
   "version": "3.7.9-final"
  }
 },
 "nbformat": 4,
 "nbformat_minor": 2
}