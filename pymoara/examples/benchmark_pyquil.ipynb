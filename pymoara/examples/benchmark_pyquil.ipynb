{
 "cells": [
  {
   "cell_type": "code",
   "execution_count": 1,
   "metadata": {},
   "outputs": [],
   "source": [
    "from pyquil import Program, get_qc\n",
    "from pyquil.gates import *\n",
    "from pyquil.api import WavefunctionSimulator"
   ]
  },
  {
   "cell_type": "code",
   "execution_count": 2,
   "metadata": {},
   "outputs": [],
   "source": [
    "import numpy as np \n",
    "import time\n",
    "import matplotlib.pyplot as plt"
   ]
  },
  {
   "cell_type": "code",
   "execution_count": 3,
   "metadata": {},
   "outputs": [],
   "source": [
    "max_depth = 30\n",
    "shot_count = 1\n",
    "\n",
    "def getPyQuilSimulator():\n",
    "    return get_qc(\"20q-qvm\")\n",
    "\n",
    "def entangler(program,n):\n",
    "    for i in range(n-1):\n",
    "        program += RX(3,i+1).controlled(i)\n",
    "\n",
    "def entanglerReverse(program,n):\n",
    "    for i in range(n):\n",
    "        target = n-i-1\n",
    "        if i != target:\n",
    "            program += RX(np.pi/7,target).controlled(i)\n",
    "\n",
    "def entanglerCX(program,n):\n",
    "    for i in range(n-1):\n",
    "        program += CNOT(i,i+1)\n",
    "\n",
    "def entanglerReverseCX(program,n):\n",
    "    for i in range(n):\n",
    "        target = n-i-1\n",
    "        if i != target:\n",
    "            program += CNOT(i,target)\n",
    "\n",
    "def Rx(program,n):\n",
    "    for i in range(n):\n",
    "        program += RX(np.pi/3,i)\n",
    "\n",
    "def Ry(program,n):\n",
    "    for i in range(n):\n",
    "        program += RY(np.pi/5,i)\n",
    "\n",
    "def XY(program,n):\n",
    "    for i in range(n):\n",
    "        program += X(i)\n",
    "        program += Y(i)"
   ]
  },
  {
   "cell_type": "code",
   "execution_count": 4,
   "metadata": {},
   "outputs": [],
   "source": [
    "def test(i,j):\n",
    "    p=Program()\n",
    "    ro = p.declare('ro', 'BIT', i)\n",
    "    for k in range(j):\n",
    "        Rx(p,i)\n",
    "        entangler(p,i)\n",
    "        Ry(p,i)\n",
    "        entanglerReverse(p,i)\n",
    "    for m in range(i):\n",
    "        p += MEASURE(m, ro[m])\n",
    "    return p"
   ]
  },
  {
   "cell_type": "code",
   "execution_count": 5,
   "metadata": {},
   "outputs": [],
   "source": [
    "def bench(simulator, max_depth, exec_func):\n",
    "    i=2\n",
    "    j=2\n",
    "    depth=[]\n",
    "    for i in range(2,max_depth):\n",
    "        duration=0\n",
    "        while (duration<0.50) and j<101:\n",
    "            test_p=test(i,j)\n",
    "            start_time = time.time()\n",
    "            a = exec_func(simulator, test_p)\n",
    "            aa = a[0]\n",
    "            duration=(time.time() - start_time)\n",
    "            j=j+1\n",
    "        depth.append(j-1)\n",
    "        j=2\n",
    "    return depth\n",
    "\n",
    "def scor(depth):\n",
    "    sc=0\n",
    "    i=2\n",
    "    for x in depth:\n",
    "        sc=sc+depth*i\n",
    "        i=i+1\n",
    "    return sc"
   ]
  },
  {
   "cell_type": "code",
   "execution_count": 6,
   "metadata": {},
   "outputs": [
    {
     "name": "stdout",
     "output_type": "stream",
     "text": [
      "DECLARE ro BIT[3]\n",
      "RX(pi/3) 0\n",
      "RX(pi/3) 1\n",
      "RX(pi/3) 2\n",
      "CONTROLLED RX(3) 0 1\n",
      "CONTROLLED RX(3) 1 2\n",
      "RY(pi/5) 0\n",
      "RY(pi/5) 1\n",
      "RY(pi/5) 2\n",
      "CONTROLLED RX(pi/7) 0 2\n",
      "CONTROLLED RX(pi/7) 2 0\n",
      "RX(pi/3) 0\n",
      "RX(pi/3) 1\n",
      "RX(pi/3) 2\n",
      "CONTROLLED RX(3) 0 1\n",
      "CONTROLLED RX(3) 1 2\n",
      "RY(pi/5) 0\n",
      "RY(pi/5) 1\n",
      "RY(pi/5) 2\n",
      "CONTROLLED RX(pi/7) 0 2\n",
      "CONTROLLED RX(pi/7) 2 0\n",
      "RX(pi/3) 0\n",
      "RX(pi/3) 1\n",
      "RX(pi/3) 2\n",
      "CONTROLLED RX(3) 0 1\n",
      "CONTROLLED RX(3) 1 2\n",
      "RY(pi/5) 0\n",
      "RY(pi/5) 1\n",
      "RY(pi/5) 2\n",
      "CONTROLLED RX(pi/7) 0 2\n",
      "CONTROLLED RX(pi/7) 2 0\n",
      "MEASURE 0 ro[0]\n",
      "MEASURE 1 ro[1]\n",
      "MEASURE 2 ro[2]\n",
      "\n"
     ]
    }
   ],
   "source": [
    "i=3\n",
    "j=3\n",
    "p=test(i,j)\n",
    "print(p)"
   ]
  },
  {
   "cell_type": "code",
   "execution_count": 7,
   "metadata": {},
   "outputs": [
    {
     "name": "stdout",
     "output_type": "stream",
     "text": [
      "[103, 222, 135, 83, 64, 70, 135, 212]\n"
     ]
    }
   ],
   "source": [
    "from pymoara import MoaraSimulator\n",
    "simulator2 = MoaraSimulator()\n",
    "result2 = simulator2.run(p, 1024)\n",
    "print(result2)"
   ]
  },
  {
   "cell_type": "code",
   "execution_count": 8,
   "metadata": {},
   "outputs": [],
   "source": [
    "\n",
    "# wf_sim = WavefunctionSimulator()\n",
    "\n",
    "# def exec_func(sim, program):\n",
    "#     #return sim.run(program)\n",
    "#     return wf_sim.wavefunction(program).get_outcome_probs()\n",
    "\n",
    "# #simulator = getPyQuilSimulator()\n",
    "# depth=bench(wf_sim, max_depth, exec_func)\n",
    "# print(depth)"
   ]
  },
  {
   "cell_type": "code",
   "execution_count": 9,
   "metadata": {},
   "outputs": [],
   "source": [
    "# simulator_name='PyQuil Simulator'\n",
    "\n",
    "# fig = plt.figure()\n",
    "# ax = fig.add_axes([0,0,1,1])\n",
    "# langs = [i for i in range(2,max_depth)]\n",
    "# ax.bar(langs,depth)\n",
    "# ax.set_title(' MaxDepth(nr,Qubits) ['+ simulator_name+']')\n",
    "# ax.set_xlabel('nr. Qubits')\n",
    "# ax.set_ylabel('Depth (RxRy_Cx)')\n",
    "# plt.show()"
   ]
  },
  {
   "cell_type": "code",
   "execution_count": 10,
   "metadata": {},
   "outputs": [
    {
     "name": "stdout",
     "output_type": "stream",
     "text": [
      "[100, 100, 100, 100, 100, 100, 100, 100, 100, 100, 100, 100, 100, 98, 47, 22, 11, 6, 3, 2, 2, 2, 2, 2, 2, 2, 2, 2]\n"
     ]
    }
   ],
   "source": [
    "def exec_func(sim, circ):\n",
    "    return sim.run(circ,1)\n",
    "    \n",
    "from pymoara import MoaraSimulator\n",
    "simulator2 = MoaraSimulator()\n",
    "depth=bench(simulator2,max_depth, exec_func)\n",
    "print(depth)"
   ]
  },
  {
   "cell_type": "code",
   "execution_count": 11,
   "metadata": {},
   "outputs": [
    {
     "data": {
      "image/png": "[encoded data removed]",
      "text/plain": [
       "<Figure size 432x288 with 1 Axes>"
      ]
     },
     "metadata": {
      "needs_background": "light"
     },
     "output_type": "display_data"
    }
   ],
   "source": [
    "simulator_name='Moara Simulator'\n",
    "\n",
    "fig, ax = plt.subplots()\n",
    "langs = [i for i in range(2,max_depth)]\n",
    "ax.bar(langs,depth)\n",
    "ax.set_title('['+ simulator_name+']')\n",
    "ax.set_xlabel('nr. Qubits')\n",
    "ax.set_ylabel('Depth')\n",
    "plt.savefig('pymoara_pyquil.png')\n",
    "plt.show()"
   ]
  }
 ],
 "metadata": {
  "kernelspec": {
   "display_name": "Python 3",
   "language": "python",
   "name": "python3"
  },
  "language_info": {
   "codemirror_mode": {
    "name": "ipython",
    "version": 3
   },
   "file_extension": ".py",
   "mimetype": "text/x-python",
   "name": "python",
   "nbconvert_exporter": "python",
   "pygments_lexer": "ipython3",
   "version": "3.7.9"
  }
 },
 "nbformat": 4,
 "nbformat_minor": 2
}
