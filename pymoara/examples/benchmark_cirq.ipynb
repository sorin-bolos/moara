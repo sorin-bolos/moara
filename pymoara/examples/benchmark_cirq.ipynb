{
 "cells": [
  {
   "cell_type": "code",
   "execution_count": 1,
   "metadata": {},
   "outputs": [],
   "source": [
    "#!make"
   ]
  },
  {
   "cell_type": "code",
   "execution_count": 2,
   "metadata": {},
   "outputs": [],
   "source": [
    "import cirq\n",
    "import pymoara\n",
    "from cirq.ops import *"
   ]
  },
  {
   "cell_type": "code",
   "execution_count": 3,
   "metadata": {},
   "outputs": [],
   "source": [
    "import numpy as np \n",
    "import time\n",
    "import matplotlib.pyplot as plt"
   ]
  },
  {
   "cell_type": "code",
   "execution_count": 4,
   "metadata": {},
   "outputs": [],
   "source": [
    "max_depth = 30\n",
    "shot_count = 1\n",
    "\n",
    "def getSimulator():\n",
    "    #return cirq.Simulator()\n",
    "    return qsimcirq.QSimSimulator()\n",
    "\n",
    "def entangler(circuit,qubits):\n",
    "    n = len(qubits)\n",
    "    for i in range(n-1):\n",
    "        circuit.append(rx(3)(qubits[i+1]).controlled_by(qubits[i]))\n",
    "\n",
    "def entanglerReverse(circuit,qubits):\n",
    "    n = len(qubits)\n",
    "    for i in range(n):\n",
    "        target = n-i-1\n",
    "        if i != target:\n",
    "            circuit.append(rx(np.pi/7)(qubits[target]).controlled_by(qubits[i]))\n",
    "\n",
    "def entanglerCX(circuit,qubits):\n",
    "    n = len(qubits)\n",
    "    for i in range(n-1):\n",
    "        circuit.append(CX(qubits[i],qubits[i+1]))\n",
    "\n",
    "def entanglerReverseCX(circuit,qubits):\n",
    "    n = len(qubits)\n",
    "    for i in range(n):\n",
    "        target = n-i-1\n",
    "        if i != target:\n",
    "            circuit.append(CX(qubits[i],qubits[target]))\n",
    "\n",
    "def Rx(citrcuit,qubits):\n",
    "    for q in qubits:\n",
    "        citrcuit.append(rx(np.pi/3)(q))\n",
    "\n",
    "def Ry(citrcuit,qubits):\n",
    "    for q in qubits:\n",
    "        citrcuit.append(ry(np.pi/5)(q))\n",
    "\n",
    "def XY(citrcuit,qubits):\n",
    "    for q in qubits:\n",
    "        citrcuit.append(X(q))\n",
    "        citrcuit.append(Y(q))"
   ]
  },
  {
   "cell_type": "code",
   "execution_count": 5,
   "metadata": {},
   "outputs": [],
   "source": [
    "def bench(simulator, max_depth, exec_func):\n",
    "    i=2\n",
    "    j=2\n",
    "    depth=[]\n",
    "    for i in range(2,max_depth):\n",
    "        duration=0\n",
    "        while (duration<0.50) and j<101:\n",
    "            test_qc=test(i,j)\n",
    "            start_time = time.time()\n",
    "            a = exec_func(simulator, test_qc)\n",
    "            a[0]\n",
    "            duration=(time.time() - start_time)\n",
    "            j=j+1\n",
    "        depth.append(j-1)\n",
    "        j=2\n",
    "    return depth\n",
    "\n",
    "def scor(depth):\n",
    "    sc=0\n",
    "    i=2\n",
    "    for x in depth:\n",
    "        sc=sc+depth*i\n",
    "        i=i+1\n",
    "    return sc"
   ]
  },
  {
   "cell_type": "code",
   "execution_count": 6,
   "metadata": {},
   "outputs": [],
   "source": [
    "def test(i,j):\n",
    "    qubits = cirq.LineQubit.range(i)\n",
    "    qc = cirq.Circuit()\n",
    "    for k in range(j):\n",
    "        Rx(qc,qubits)\n",
    "        entangler(qc,qubits)\n",
    "        Ry(qc,qubits)\n",
    "        entanglerReverse(qc,qubits)\n",
    "    for q in qubits:\n",
    "        qc.append(measure(q))\n",
    "    return qc"
   ]
  },
  {
   "cell_type": "code",
   "execution_count": 7,
   "metadata": {},
   "outputs": [
    {
     "data": {
      "text/html": [
       "<pre style=\"overflow: auto; white-space: pre;\">                                                        ┌────────────────────┐                                                                  ┌────────────────────┐                                                                  ┌───────────┐\n",
       "0: ───Rx(0.333π)───@────────────Ry(0.2π)─────────────────@───────────────────────Rx(0.143π)───Rx(0.333π)───@────────────Ry(0.2π)─────────────────@───────────────────────Rx(0.143π)───Rx(0.333π)───@────────────Ry(0.2π)─────────────────@──────────────Rx(0.143π)───M───\n",
       "                   │                                     │                       │                         │                                     │                       │                         │                                     │              │\n",
       "1: ───Rx(0.333π)───Rx(0.955π)───@────────────Ry(0.2π)────┼─────────Rx(0.333π)────┼─────────────────────────Rx(0.955π)───@────────────Ry(0.2π)────┼─────────Rx(0.333π)────┼─────────────────────────Rx(0.955π)───@────────────Ry(0.2π)────┼─────────M────┼────────────────\n",
       "                                │                        │                       │                                      │                        │                       │                                      │                        │              │\n",
       "2: ───Rx(0.333π)────────────────Rx(0.955π)───Ry(0.2π)────Rx(0.143π)──────────────@────────────Rx(0.333π)────────────────Rx(0.955π)───Ry(0.2π)────Rx(0.143π)──────────────@────────────Rx(0.333π)────────────────Rx(0.955π)───Ry(0.2π)────Rx(0.143π)─────@────────────M───\n",
       "                                                        └────────────────────┘                                                                  └────────────────────┘                                                                  └───────────┘</pre>"
      ],
      "text/plain": [
       "                                                        ┌────────────────────┐                                                                  ┌────────────────────┐                                                                  ┌───────────┐\n",
       "0: ───Rx(0.333π)───@────────────Ry(0.2π)─────────────────@───────────────────────Rx(0.143π)───Rx(0.333π)───@────────────Ry(0.2π)─────────────────@───────────────────────Rx(0.143π)───Rx(0.333π)───@────────────Ry(0.2π)─────────────────@──────────────Rx(0.143π)───M───\n",
       "                   │                                     │                       │                         │                                     │                       │                         │                                     │              │\n",
       "1: ───Rx(0.333π)───Rx(0.955π)───@────────────Ry(0.2π)────┼─────────Rx(0.333π)────┼─────────────────────────Rx(0.955π)───@────────────Ry(0.2π)────┼─────────Rx(0.333π)────┼─────────────────────────Rx(0.955π)───@────────────Ry(0.2π)────┼─────────M────┼────────────────\n",
       "                                │                        │                       │                                      │                        │                       │                                      │                        │              │\n",
       "2: ───Rx(0.333π)────────────────Rx(0.955π)───Ry(0.2π)────Rx(0.143π)──────────────@────────────Rx(0.333π)────────────────Rx(0.955π)───Ry(0.2π)────Rx(0.143π)──────────────@────────────Rx(0.333π)────────────────Rx(0.955π)───Ry(0.2π)────Rx(0.143π)─────@────────────M───\n",
       "                                                        └────────────────────┘                                                                  └────────────────────┘                                                                  └───────────┘"
      ]
     },
     "execution_count": 7,
     "metadata": {},
     "output_type": "execute_result"
    }
   ],
   "source": [
    "i=3\n",
    "j=3\n",
    "p=test(i,j)\n",
    "p"
   ]
  },
  {
   "cell_type": "code",
   "execution_count": 8,
   "metadata": {},
   "outputs": [
    {
     "name": "stdout",
     "output_type": "stream",
     "text": [
      "[98, 238, 122, 93, 65, 60, 131, 217]\n"
     ]
    }
   ],
   "source": [
    "from pymoara import MoaraSimulator\n",
    "simulator2 = MoaraSimulator()\n",
    "result2 = simulator2.run(p, 1024)\n",
    "print(result2)"
   ]
  },
  {
   "cell_type": "code",
   "execution_count": 9,
   "metadata": {},
   "outputs": [
    {
     "name": "stdout",
     "output_type": "stream",
     "text": [
      "[100, 100, 100, 100, 100, 100, 100, 100, 100, 100, 100, 100, 100, 100, 44, 24, 12, 6, 3, 2, 2, 2, 2, 2, 2, 2, 2, 2]\n"
     ]
    }
   ],
   "source": [
    "def exec_func(sim, circ):\n",
    "    return sim.run(circ,1)\n",
    "\n",
    "#simulator=getSimulator()\n",
    "depth=bench(simulator2,max_depth, exec_func)\n",
    "print(depth)"
   ]
  },
  {
   "cell_type": "code",
   "execution_count": 10,
   "metadata": {},
   "outputs": [
    {
     "data": {
      "image/png": "[encoded data removed]",
      "text/plain": [
       "<Figure size 432x288 with 1 Axes>"
      ]
     },
     "metadata": {
      "needs_background": "light"
     },
     "output_type": "display_data"
    }
   ],
   "source": [
    "simulator_name='Moara Simulator'\n",
    "\n",
    "fig, ax = plt.subplots()\n",
    "langs = [i for i in range(2,max_depth)]\n",
    "ax.bar(langs,depth)\n",
    "ax.set_title('['+ simulator_name+']')\n",
    "ax.set_xlabel('nr. Qubits')\n",
    "ax.set_ylabel('Depth')\n",
    "plt.savefig('pymoara_cirq.png')\n",
    "plt.show()"
   ]
  }
 ],
 "metadata": {
  "kernelspec": {
   "display_name": "Python 3",
   "language": "python",
   "name": "python3"
  },
  "language_info": {
   "codemirror_mode": {
    "name": "ipython",
    "version": 3
   },
   "file_extension": ".py",
   "mimetype": "text/x-python",
   "name": "python",
   "nbconvert_exporter": "python",
   "pygments_lexer": "ipython3",
   "version": "3.7.9"
  }
 },
 "nbformat": 4,
 "nbformat_minor": 2
}
