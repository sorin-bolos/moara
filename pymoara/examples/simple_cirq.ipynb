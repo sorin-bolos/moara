{
 "metadata": {
  "language_info": {
   "codemirror_mode": {
    "name": "ipython",
    "version": 3
   },
   "file_extension": ".py",
   "mimetype": "text/x-python",
   "name": "python",
   "nbconvert_exporter": "python",
   "pygments_lexer": "ipython3",
   "version": "3.7.9-final"
  },
  "orig_nbformat": 2,
  "kernelspec": {
   "name": "python3",
   "display_name": "Python 3",
   "language": "python"
  }
 },
 "nbformat": 4,
 "nbformat_minor": 2,
 "cells": [
  {
   "cell_type": "code",
   "execution_count": 1,
   "metadata": {},
   "outputs": [],
   "source": [
    "import cirq\n",
    "import pymoara\n",
    "from cirq.ops import *"
   ]
  },
  {
   "cell_type": "code",
   "execution_count": 2,
   "metadata": {},
   "outputs": [],
   "source": [
    "import numpy as np \n",
    "import time\n",
    "import matplotlib.pyplot as plt"
   ]
  },
  {
   "cell_type": "code",
   "execution_count": 3,
   "metadata": {},
   "outputs": [
    {
     "output_type": "stream",
     "name": "stdout",
     "text": [
      "0: ───H───@───M───\n          │\n1: ───────X───M───\n"
     ]
    }
   ],
   "source": [
    "qb = cirq.LineQubit.range(3)\n",
    "circ = cirq.Circuit()\n",
    "circ.append(H(qb[0]))\n",
    "circ.append(CNOT(qb[0], qb[1]))\n",
    "circ.append(cirq.measure(qb[0]))\n",
    "circ.append(cirq.measure(qb[1]))\n",
    "print(circ)"
   ]
  },
  {
   "cell_type": "code",
   "execution_count": 4,
   "metadata": {},
   "outputs": [
    {
     "output_type": "stream",
     "name": "stdout",
     "text": [
      "[518, 0, 0, 506]\n"
     ]
    }
   ],
   "source": [
    "from pymoara import MoaraSimulator\n",
    "simulator2 = MoaraSimulator()\n",
    "result2 = simulator2.run(circ)\n",
    "print(result2)"
   ]
  },
  {
   "cell_type": "code",
   "execution_count": null,
   "metadata": {},
   "outputs": [],
   "source": []
  }
 ]
}